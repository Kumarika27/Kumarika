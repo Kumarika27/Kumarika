{
 "cells": [
  {
   "cell_type": "code",
   "execution_count": 1,
   "id": "8e601a78",
   "metadata": {},
   "outputs": [
    {
     "name": "stdout",
     "output_type": "stream",
     "text": [
      "['vegetables', 'Fruits', 'Biscuits', 'Chocolates', 'Vim bar']\n"
     ]
    }
   ],
   "source": [
    "Grocery = [\"vegetables\", \"Fruits\", \"Biscuits\", \"Chocolates\", \"Vim bar\"]\n",
    "print (Grocery)"
   ]
  },
  {
   "cell_type": "code",
   "execution_count": 2,
   "id": "3e11c712",
   "metadata": {},
   "outputs": [
    {
     "name": "stdout",
     "output_type": "stream",
     "text": [
      "Biscuits\n"
     ]
    }
   ],
   "source": [
    "print (Grocery [2])"
   ]
  },
  {
   "cell_type": "code",
   "execution_count": 3,
   "id": "7b6fb234",
   "metadata": {},
   "outputs": [
    {
     "name": "stdout",
     "output_type": "stream",
     "text": [
      "[1, 2, 3, 4, 5, 6]\n"
     ]
    }
   ],
   "source": [
    "Numbers = [1, 2, 3, 4, 5, 6]\n",
    "print (Numbers)"
   ]
  },
  {
   "cell_type": "code",
   "execution_count": 4,
   "id": "7db88b76",
   "metadata": {},
   "outputs": [
    {
     "name": "stdout",
     "output_type": "stream",
     "text": [
      "6\n"
     ]
    }
   ],
   "source": [
    "print (Numbers [5])"
   ]
  },
  {
   "cell_type": "code",
   "execution_count": 5,
   "id": "7e4c53d0",
   "metadata": {},
   "outputs": [
    {
     "name": "stdout",
     "output_type": "stream",
     "text": [
      "[1, 2, 3, 4, 5, 6]\n"
     ]
    }
   ],
   "source": [
    "Numbers.sort()\n",
    "print (Numbers)"
   ]
  },
  {
   "cell_type": "code",
   "execution_count": 6,
   "id": "ea20e61a",
   "metadata": {},
   "outputs": [
    {
     "name": "stdout",
     "output_type": "stream",
     "text": [
      "[6, 5, 4, 3, 2, 1]\n"
     ]
    }
   ],
   "source": [
    "Numbers.reverse()\n",
    "print (Numbers)"
   ]
  },
  {
   "cell_type": "code",
   "execution_count": 7,
   "id": "9d839ed1",
   "metadata": {},
   "outputs": [
    {
     "name": "stdout",
     "output_type": "stream",
     "text": [
      "[6, 5, 4, 3, 2]\n"
     ]
    }
   ],
   "source": [
    "print (Numbers [0:5])"
   ]
  },
  {
   "cell_type": "code",
   "execution_count": 9,
   "id": "f4719758",
   "metadata": {},
   "outputs": [
    {
     "name": "stdout",
     "output_type": "stream",
     "text": [
      "[6, 5, 4, 3, 2, 1]\n"
     ]
    }
   ],
   "source": [
    "print (Numbers [:])"
   ]
  },
  {
   "cell_type": "code",
   "execution_count": 12,
   "id": "4fff2a45",
   "metadata": {},
   "outputs": [
    {
     "name": "stdout",
     "output_type": "stream",
     "text": [
      "[6, 4, 2]\n"
     ]
    }
   ],
   "source": [
    "print (Numbers [: : 2])"
   ]
  },
  {
   "cell_type": "code",
   "execution_count": 14,
   "id": "5719b68d",
   "metadata": {},
   "outputs": [
    {
     "name": "stdout",
     "output_type": "stream",
     "text": [
      "6\n"
     ]
    }
   ],
   "source": [
    "print (len(Numbers))"
   ]
  },
  {
   "cell_type": "code",
   "execution_count": 15,
   "id": "0ee31b5e",
   "metadata": {},
   "outputs": [
    {
     "name": "stdout",
     "output_type": "stream",
     "text": [
      "1\n"
     ]
    }
   ],
   "source": [
    "print (min(Numbers))"
   ]
  },
  {
   "cell_type": "code",
   "execution_count": 16,
   "id": "44c90ef1",
   "metadata": {},
   "outputs": [
    {
     "name": "stdout",
     "output_type": "stream",
     "text": [
      "6\n"
     ]
    }
   ],
   "source": [
    "print (max(Numbers))"
   ]
  },
  {
   "cell_type": "code",
   "execution_count": 18,
   "id": "dd14e45b",
   "metadata": {},
   "outputs": [
    {
     "name": "stdout",
     "output_type": "stream",
     "text": [
      "[6, 5, 4, 3, 2, 1, 9]\n"
     ]
    }
   ],
   "source": [
    "Numbers.append(9)\n",
    "print (Numbers)"
   ]
  },
  {
   "cell_type": "code",
   "execution_count": 19,
   "id": "8220c8f3",
   "metadata": {},
   "outputs": [
    {
     "name": "stdout",
     "output_type": "stream",
     "text": [
      "[6, 5, 4, 45, 3, 2, 1, 9]\n"
     ]
    }
   ],
   "source": [
    "Numbers.insert (3,45)\n",
    "print (Numbers)"
   ]
  },
  {
   "cell_type": "code",
   "execution_count": 20,
   "id": "3932a789",
   "metadata": {},
   "outputs": [
    {
     "name": "stdout",
     "output_type": "stream",
     "text": [
      "[6, 5, 4, 3, 2, 1, 9]\n"
     ]
    }
   ],
   "source": [
    "Numbers.remove(45)\n",
    "print (Numbers)"
   ]
  },
  {
   "cell_type": "code",
   "execution_count": 21,
   "id": "c537288f",
   "metadata": {},
   "outputs": [
    {
     "name": "stdout",
     "output_type": "stream",
     "text": [
      "[6, 5, 4, 3, 2, 1]\n"
     ]
    }
   ],
   "source": [
    "Numbers.pop()\n",
    "print (Numbers)"
   ]
  },
  {
   "cell_type": "code",
   "execution_count": 22,
   "id": "51f8cf82",
   "metadata": {},
   "outputs": [
    {
     "name": "stdout",
     "output_type": "stream",
     "text": [
      "[6, 5, 66, 3, 2, 1]\n"
     ]
    }
   ],
   "source": [
    "Numbers[2] = 66\n",
    "print (Numbers)"
   ]
  },
  {
   "cell_type": "code",
   "execution_count": 23,
   "id": "fe88d4da",
   "metadata": {},
   "outputs": [
    {
     "name": "stdout",
     "output_type": "stream",
     "text": [
      "(1, 3, 5, 7, 9)\n"
     ]
    }
   ],
   "source": [
    "tp = (1, 3, 5, 7, 9)\n",
    "print (tp)"
   ]
  },
  {
   "cell_type": "code",
   "execution_count": 24,
   "id": "4c873b7f",
   "metadata": {},
   "outputs": [
    {
     "ename": "AttributeError",
     "evalue": "'tuple' object has no attribute 'remove'",
     "output_type": "error",
     "traceback": [
      "\u001b[1;31m---------------------------------------------------------------------------\u001b[0m",
      "\u001b[1;31mAttributeError\u001b[0m                            Traceback (most recent call last)",
      "\u001b[1;32m~\\AppData\\Local\\Temp/ipykernel_788/1033361402.py\u001b[0m in \u001b[0;36m<module>\u001b[1;34m\u001b[0m\n\u001b[1;32m----> 1\u001b[1;33m \u001b[0mtp\u001b[0m\u001b[1;33m.\u001b[0m\u001b[0mremove\u001b[0m\u001b[1;33m\u001b[0m\u001b[1;33m\u001b[0m\u001b[0m\n\u001b[0m\u001b[0;32m      2\u001b[0m \u001b[0mprint\u001b[0m \u001b[1;33m(\u001b[0m\u001b[0mtp\u001b[0m\u001b[1;33m)\u001b[0m\u001b[1;33m\u001b[0m\u001b[1;33m\u001b[0m\u001b[0m\n",
      "\u001b[1;31mAttributeError\u001b[0m: 'tuple' object has no attribute 'remove'"
     ]
    }
   ],
   "source": [
    "tp.remove\n",
    "print (tp)"
   ]
  },
  {
   "cell_type": "code",
   "execution_count": 25,
   "id": "7396a4d2",
   "metadata": {},
   "outputs": [
    {
     "ename": "TypeError",
     "evalue": "'tuple' object does not support item assignment",
     "output_type": "error",
     "traceback": [
      "\u001b[1;31m---------------------------------------------------------------------------\u001b[0m",
      "\u001b[1;31mTypeError\u001b[0m                                 Traceback (most recent call last)",
      "\u001b[1;32m~\\AppData\\Local\\Temp/ipykernel_788/1035252689.py\u001b[0m in \u001b[0;36m<module>\u001b[1;34m\u001b[0m\n\u001b[1;32m----> 1\u001b[1;33m \u001b[0mtp\u001b[0m\u001b[1;33m[\u001b[0m\u001b[1;36m1\u001b[0m\u001b[1;33m]\u001b[0m\u001b[1;33m=\u001b[0m\u001b[1;36m9\u001b[0m\u001b[1;33m\u001b[0m\u001b[1;33m\u001b[0m\u001b[0m\n\u001b[0m\u001b[0;32m      2\u001b[0m \u001b[0mprint\u001b[0m \u001b[1;33m(\u001b[0m\u001b[0mtp\u001b[0m\u001b[1;33m)\u001b[0m\u001b[1;33m\u001b[0m\u001b[1;33m\u001b[0m\u001b[0m\n",
      "\u001b[1;31mTypeError\u001b[0m: 'tuple' object does not support item assignment"
     ]
    }
   ],
   "source": [
    "tp[1]=9\n",
    "print (tp)"
   ]
  },
  {
   "cell_type": "code",
   "execution_count": 26,
   "id": "6bdb2d86",
   "metadata": {},
   "outputs": [
    {
     "name": "stdout",
     "output_type": "stream",
     "text": [
      "9 6\n"
     ]
    }
   ],
   "source": [
    "a = 6\n",
    "b = 9\n",
    "a,b = b,a\n",
    "print (a,b)"
   ]
  },
  {
   "cell_type": "code",
   "execution_count": 28,
   "id": "7b8f7c14",
   "metadata": {},
   "outputs": [
    {
     "name": "stdout",
     "output_type": "stream",
     "text": [
      "['isha', 'rit', 'lipi', 'diganta']\n"
     ]
    }
   ],
   "source": [
    "name = [\"isha\", \"rit\", \"lipi\", \"diganta\"]\n",
    "print(name)"
   ]
  },
  {
   "cell_type": "code",
   "execution_count": null,
   "id": "2f6f4ca6",
   "metadata": {},
   "outputs": [],
   "source": []
  }
 ],
 "metadata": {
  "kernelspec": {
   "display_name": "Python 3 (ipykernel)",
   "language": "python",
   "name": "python3"
  },
  "language_info": {
   "codemirror_mode": {
    "name": "ipython",
    "version": 3
   },
   "file_extension": ".py",
   "mimetype": "text/x-python",
   "name": "python",
   "nbconvert_exporter": "python",
   "pygments_lexer": "ipython3",
   "version": "3.9.7"
  }
 },
 "nbformat": 4,
 "nbformat_minor": 5
}
